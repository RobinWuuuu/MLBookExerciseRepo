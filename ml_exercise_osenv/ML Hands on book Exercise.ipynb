{
 "cells": [
  {
   "cell_type": "code",
   "execution_count": 4,
   "id": "ed199862",
   "metadata": {},
   "outputs": [
    {
     "name": "stdout",
     "output_type": "stream",
     "text": [
      "Collecting pandas\n",
      "\u001b[?25l  Downloading https://files.pythonhosted.org/packages/47/a5/79156a83c133b5d049a38f444e11eacabab8b3ad00814d8c6811fe9850e2/pandas-1.4.2-cp38-cp38-macosx_10_9_x86_64.whl (11.0MB)\n",
      "\u001b[K     |████████████████████████████████| 11.0MB 5.9MB/s eta 0:00:01\n",
      "\u001b[?25hRequirement already satisfied: python-dateutil>=2.8.1 in /Library/Frameworks/Python.framework/Versions/3.8/lib/python3.8/site-packages (from pandas) (2.8.2)\n",
      "Collecting numpy>=1.18.5; platform_machine != \"aarch64\" and platform_machine != \"arm64\" and python_version < \"3.10\" (from pandas)\n",
      "\u001b[?25l  Downloading https://files.pythonhosted.org/packages/4b/e7/bb0fefe2d51d16149196ffbbcb51e615ff577340d9eb67c7ff8a0503040c/numpy-1.22.4-cp38-cp38-macosx_10_15_x86_64.whl (17.6MB)\n",
      "\u001b[K     |████████████████████████████████| 17.6MB 14.6MB/s eta 0:00:01\n",
      "\u001b[?25hCollecting pytz>=2020.1 (from pandas)\n",
      "\u001b[?25l  Downloading https://files.pythonhosted.org/packages/60/2e/dec1cc18c51b8df33c7c4d0a321b084cf38e1733b98f9d15018880fb4970/pytz-2022.1-py2.py3-none-any.whl (503kB)\n",
      "\u001b[K     |████████████████████████████████| 512kB 54.2MB/s eta 0:00:01\n",
      "\u001b[?25hRequirement already satisfied: six>=1.5 in /Library/Frameworks/Python.framework/Versions/3.8/lib/python3.8/site-packages (from python-dateutil>=2.8.1->pandas) (1.16.0)\n",
      "Installing collected packages: numpy, pytz, pandas\n",
      "Successfully installed numpy-1.22.4 pandas-1.4.2 pytz-2022.1\n",
      "\u001b[33mWARNING: You are using pip version 19.2.3, however version 22.1.2 is available.\n",
      "You should consider upgrading via the 'pip install --upgrade pip' command.\u001b[0m\n",
      "Note: you may need to restart the kernel to use updated packages.\n"
     ]
    }
   ],
   "source": [
    "pip install pandas"
   ]
  },
  {
   "cell_type": "markdown",
   "id": "5e6b2734",
   "metadata": {},
   "source": [
    "# Chapter 2 Exercise\n",
    "Using this chapter’s housing dataset: \n",
    "Load the dataset\n"
   ]
  },
  {
   "cell_type": "code",
   "execution_count": 2,
   "id": "81feee1e",
   "metadata": {},
   "outputs": [],
   "source": [
    "#Download the data\n",
    "import os \n",
    "import tarfile \n",
    "from six.moves import urllib\n",
    "DOWNLOAD_ROOT = \"https://raw.githubusercontent.com/ageron/handson-ml2/master/\"\n",
    "HOUSING_PATH = os.path.join(\"datasets\", \"housing\") \n",
    "HOUSING_URL = DOWNLOAD_ROOT + \"datasets/housing/housing.tgz\"\n",
    "def fetch_housing_data(housing_url=HOUSING_URL, housing_path=HOUSING_PATH):\n",
    "    if not os.path.isdir(housing_path):     \n",
    "        os.makedirs(housing_path)  \n",
    "    tgz_path = os.path.join(housing_path, \"housing.tgz\")  \n",
    "    urllib.request.urlretrieve(housing_url, tgz_path)   \n",
    "    housing_tgz = tarfile.open(tgz_path) \n",
    "    housing_tgz.extractall(path=housing_path)    \n",
    "    housing_tgz.close()\n",
    "\n"
   ]
  },
  {
   "cell_type": "code",
   "execution_count": 3,
   "id": "fe37573b",
   "metadata": {},
   "outputs": [
    {
     "ename": "ModuleNotFoundError",
     "evalue": "No module named 'pandas'",
     "output_type": "error",
     "traceback": [
      "\u001b[0;31m---------------------------------------------------------------------------\u001b[0m",
      "\u001b[0;31mModuleNotFoundError\u001b[0m                       Traceback (most recent call last)",
      "\u001b[1;32m/Users/robinwu/Desktop/Git/MLBookExerciseRepo/ml_exercise_env/ML Hands on book Exercise.ipynb Cell 4'\u001b[0m in \u001b[0;36m<cell line: 1>\u001b[0;34m()\u001b[0m\n\u001b[0;32m----> <a href='vscode-notebook-cell:/Users/robinwu/Desktop/Git/MLBookExerciseRepo/ml_exercise_env/ML%20Hands%20on%20book%20Exercise.ipynb#ch0000009?line=0'>1</a>\u001b[0m \u001b[39mimport\u001b[39;00m \u001b[39mpandas\u001b[39;00m \u001b[39mas\u001b[39;00m \u001b[39mpd\u001b[39;00m\n\u001b[1;32m      <a href='vscode-notebook-cell:/Users/robinwu/Desktop/Git/MLBookExerciseRepo/ml_exercise_env/ML%20Hands%20on%20book%20Exercise.ipynb#ch0000009?line=1'>2</a>\u001b[0m \u001b[39mdef\u001b[39;00m \u001b[39mload_housing_data\u001b[39m(housing_path\u001b[39m=\u001b[39mHOUSING_PATH):   \n\u001b[1;32m      <a href='vscode-notebook-cell:/Users/robinwu/Desktop/Git/MLBookExerciseRepo/ml_exercise_env/ML%20Hands%20on%20book%20Exercise.ipynb#ch0000009?line=2'>3</a>\u001b[0m     csv_path \u001b[39m=\u001b[39m os\u001b[39m.\u001b[39mpath\u001b[39m.\u001b[39mjoin(housing_path, \u001b[39m\"\u001b[39m\u001b[39mhousing.csv\u001b[39m\u001b[39m\"\u001b[39m)   \n",
      "\u001b[0;31mModuleNotFoundError\u001b[0m: No module named 'pandas'"
     ]
    }
   ],
   "source": [
    "import pandas as pd\n",
    "def load_housing_data(housing_path=HOUSING_PATH):   \n",
    "    csv_path = os.path.join(housing_path, \"housing.csv\")   \n",
    "    return pd.read_csv(csv_path)"
   ]
  },
  {
   "cell_type": "markdown",
   "id": "729393bd",
   "metadata": {},
   "source": [
    "1. Try a Support Vector Machine regressor (sklearn.svm.SVR), with various hyper‐parameters such as kernel=\"linear\" (with various values for the C hyperpara‐meter) or kernel=\"rbf\" (with various values for the C and gamma hyperparameters). Don’t worry about what these hyperparameters mean for now.\n",
    "How does the best SVR predictor perform? \n"
   ]
  },
  {
   "cell_type": "markdown",
   "id": "45bc15fd",
   "metadata": {},
   "source": [
    "2. Try replacing GridSearchCV with RandomizedSearchCV.\n"
   ]
  },
  {
   "cell_type": "markdown",
   "id": "6fbd6499",
   "metadata": {},
   "source": [
    "\n",
    "3. Try adding a transformer in the preparation pipeline to select only the most important attributes.\n"
   ]
  },
  {
   "cell_type": "markdown",
   "id": "491e8f13",
   "metadata": {},
   "source": [
    "\n",
    "4. Try creating a single pipeline that does the full data preparation plus the final prediction.\n"
   ]
  },
  {
   "cell_type": "markdown",
   "id": "85d119b4",
   "metadata": {},
   "source": [
    "\n",
    "5. Automatically explore some preparation options using GridSearchCV.\n",
    "Solutions to these exercises are available in the online Jupyter notebooks at https:// github.com/ageron/handson-ml2."
   ]
  },
  {
   "cell_type": "code",
   "execution_count": null,
   "id": "da5c8d16",
   "metadata": {},
   "outputs": [],
   "source": []
  }
 ],
 "metadata": {
  "kernelspec": {
   "display_name": "Python 3 (ipykernel)",
   "language": "python",
   "name": "python3"
  },
  "language_info": {
   "codemirror_mode": {
    "name": "ipython",
    "version": 3
   },
   "file_extension": ".py",
   "mimetype": "text/x-python",
   "name": "python",
   "nbconvert_exporter": "python",
   "pygments_lexer": "ipython3",
   "version": "3.8.2"
  }
 },
 "nbformat": 4,
 "nbformat_minor": 5
}
